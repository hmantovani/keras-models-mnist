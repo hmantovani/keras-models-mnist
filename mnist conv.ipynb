{
 "cells": [
  {
   "cell_type": "markdown",
   "metadata": {},
   "source": [
    "## Importando as bibliotecas"
   ]
  },
  {
   "cell_type": "code",
   "execution_count": 82,
   "metadata": {},
   "outputs": [],
   "source": [
    "import tensorflow as tf\n",
    "import keras\n",
    "import numpy as np\n",
    "import matplotlib.pyplot as plt\n",
    "import random as rd\n",
    "import collections\n",
    "from keras.models import Sequential, Model\n",
    "from keras.layers import Dense, Input, Flatten, Dropout, Conv2D, MaxPooling2D"
   ]
  },
  {
   "cell_type": "markdown",
   "metadata": {},
   "source": [
    "## Importando o dataset MNIST\n",
    "\n",
    "O dataset MNIST é uma grande base de dados de dígitos manuscritos utilizada para treinamento de diversos sistemas de processamento de imagens, possuindo também aplicações em treinamentos e testes de Machine Learning.\n",
    "- 70 mil imagens\n",
    "- 60 mil para treinamento\n",
    "- 10 mil para teste\n",
    "- Imagens com tamanho exato de 28x28 pixels"
   ]
  },
  {
   "cell_type": "code",
   "execution_count": 83,
   "metadata": {},
   "outputs": [],
   "source": [
    "mnist = tf.keras.datasets.mnist\n",
    "(img_train, num_train) , (img_test, num_test) = mnist.load_data()"
   ]
  },
  {
   "cell_type": "markdown",
   "metadata": {},
   "source": [
    "## Verificação dos dados"
   ]
  },
  {
   "cell_type": "markdown",
   "metadata": {},
   "source": [
    "#### Imagens de treinamento"
   ]
  },
  {
   "cell_type": "code",
   "execution_count": 84,
   "metadata": {},
   "outputs": [
    {
     "data": {
      "text/plain": [
       "(60000, 28, 28)"
      ]
     },
     "execution_count": 84,
     "metadata": {},
     "output_type": "execute_result"
    }
   ],
   "source": [
    "img_train.shape"
   ]
  },
  {
   "cell_type": "markdown",
   "metadata": {},
   "source": [
    "#### Imagens de teste"
   ]
  },
  {
   "cell_type": "code",
   "execution_count": 85,
   "metadata": {},
   "outputs": [
    {
     "data": {
      "text/plain": [
       "(10000, 28, 28)"
      ]
     },
     "execution_count": 85,
     "metadata": {},
     "output_type": "execute_result"
    }
   ],
   "source": [
    "img_test.shape"
   ]
  },
  {
   "cell_type": "markdown",
   "metadata": {},
   "source": [
    "#### Labels de treinamento"
   ]
  },
  {
   "cell_type": "code",
   "execution_count": 86,
   "metadata": {},
   "outputs": [
    {
     "data": {
      "text/plain": [
       "(60000,)"
      ]
     },
     "execution_count": 86,
     "metadata": {},
     "output_type": "execute_result"
    }
   ],
   "source": [
    "num_train.shape"
   ]
  },
  {
   "cell_type": "markdown",
   "metadata": {},
   "source": [
    "#### Labels de teste"
   ]
  },
  {
   "cell_type": "code",
   "execution_count": 87,
   "metadata": {},
   "outputs": [
    {
     "data": {
      "text/plain": [
       "(10000,)"
      ]
     },
     "execution_count": 87,
     "metadata": {},
     "output_type": "execute_result"
    }
   ],
   "source": [
    "num_test.shape"
   ]
  },
  {
   "cell_type": "markdown",
   "metadata": {},
   "source": [
    "#### Grupos diferentes no conjunto de labels"
   ]
  },
  {
   "cell_type": "code",
   "execution_count": 88,
   "metadata": {},
   "outputs": [
    {
     "data": {
      "text/plain": [
       "array([0, 1, 2, 3, 4, 5, 6, 7, 8, 9], dtype=uint8)"
      ]
     },
     "execution_count": 88,
     "metadata": {},
     "output_type": "execute_result"
    }
   ],
   "source": [
    "np.unique(num_train)"
   ]
  },
  {
   "cell_type": "markdown",
   "metadata": {},
   "source": [
    "A quantidade de 10 grupos diferentes no conjunto de labels é exatamente o esperado, já que é a mesma quantidade de dígitos que podem ser manuscritos no contexto desse dataset."
   ]
  },
  {
   "cell_type": "markdown",
   "metadata": {},
   "source": [
    "#### Ocorrências de cada número no conjunto de treinamento"
   ]
  },
  {
   "cell_type": "code",
   "execution_count": 89,
   "metadata": {},
   "outputs": [
    {
     "data": {
      "text/plain": [
       "[(0, 5923),\n",
       " (1, 6742),\n",
       " (2, 5958),\n",
       " (3, 6131),\n",
       " (4, 5842),\n",
       " (5, 5421),\n",
       " (6, 5918),\n",
       " (7, 6265),\n",
       " (8, 5851),\n",
       " (9, 5949)]"
      ]
     },
     "execution_count": 89,
     "metadata": {},
     "output_type": "execute_result"
    }
   ],
   "source": [
    "sorted(collections.Counter(num_train).items())"
   ]
  },
  {
   "cell_type": "markdown",
   "metadata": {},
   "source": [
    "#### Ocorrências de cada número no conjunto de teste"
   ]
  },
  {
   "cell_type": "code",
   "execution_count": 90,
   "metadata": {},
   "outputs": [
    {
     "data": {
      "text/plain": [
       "[(0, 980),\n",
       " (1, 1135),\n",
       " (2, 1032),\n",
       " (3, 1010),\n",
       " (4, 982),\n",
       " (5, 892),\n",
       " (6, 958),\n",
       " (7, 1028),\n",
       " (8, 974),\n",
       " (9, 1009)]"
      ]
     },
     "execution_count": 90,
     "metadata": {},
     "output_type": "execute_result"
    }
   ],
   "source": [
    "sorted(collections.Counter(num_test).items())"
   ]
  },
  {
   "cell_type": "markdown",
   "metadata": {},
   "source": [
    "## Manipulação básica dos dados"
   ]
  },
  {
   "cell_type": "markdown",
   "metadata": {},
   "source": [
    "#### Visualizando uma imagem aleatória do banco de dados"
   ]
  },
  {
   "cell_type": "code",
   "execution_count": 91,
   "metadata": {},
   "outputs": [
    {
     "data": {
      "image/png": "[encoded data removed]",
      "text/plain": [
       "<Figure size 432x288 with 2 Axes>"
      ]
     },
     "metadata": {
      "needs_background": "light"
     },
     "output_type": "display_data"
    }
   ],
   "source": [
    "choice = rd.randrange(0,60000)\n",
    "plt.figure()\n",
    "plt.imshow(img_train[choice], cmap='gray')\n",
    "plt.colorbar()\n",
    "plt.show()"
   ]
  },
  {
   "cell_type": "markdown",
   "metadata": {},
   "source": [
    "#### Visualizando 35 imagens aleatórias do banco de dados (7x5)"
   ]
  },
  {
   "cell_type": "code",
   "execution_count": 92,
   "metadata": {},
   "outputs": [
    {
     "data": {
      "image/png": "[encoded data removed]",
      "text/plain": [
       "<Figure size 1440x1440 with 35 Axes>"
      ]
     },
     "metadata": {},
     "output_type": "display_data"
    }
   ],
   "source": [
    "rdm = []\n",
    "for i in range(0,35):\n",
    "    addnum = rd.randint(1,60000)\n",
    "    rdm.append(addnum)\n",
    "\n",
    "plt.figure(figsize = (20 , 20))\n",
    "for img, xpos in zip(rdm, range(35)):\n",
    "    plt.subplot(5, 7, xpos+1)\n",
    "    plt.imshow(img_train[img], cmap=\"gray\")\n",
    "    plt.xticks([])\n",
    "    plt.yticks([])\n",
    "    plt.grid(False)\n",
    "    plt.xlabel(num_train[img], color=\"white\")\n",
    "plt.show()"
   ]
  },
  {
   "cell_type": "markdown",
   "metadata": {},
   "source": [
    "## Normalizando as imagens"
   ]
  },
  {
   "cell_type": "markdown",
   "metadata": {},
   "source": [
    "#### Realizando a normalização"
   ]
  },
  {
   "cell_type": "code",
   "execution_count": 93,
   "metadata": {},
   "outputs": [],
   "source": [
    "# Definindo o intervalo de (0,1) para as imagens\n",
    "img_train = img_train.astype('float32') / 255\n",
    "img_test = img_test.astype('float32') / 255\n",
    "\n",
    "# Definindo o formato adequado para as imagens (28, 28, 1)\n",
    "img_train = np.expand_dims(img_train, -1)\n",
    "img_test = np.expand_dims(img_test, -1)\n",
    "\n",
    "# Transformando os 10 grupos de dígitos em 10 colunas binárias\n",
    "num_train = keras.utils.to_categorical(num_train, 10)\n",
    "num_test = keras.utils.to_categorical(num_test, 10)"
   ]
  },
  {
   "cell_type": "markdown",
   "metadata": {},
   "source": [
    "#### Checando a normalização"
   ]
  },
  {
   "cell_type": "code",
   "execution_count": 94,
   "metadata": {},
   "outputs": [
    {
     "name": "stdout",
     "output_type": "stream",
     "text": [
      "Formato das imagens de treinamento:  (60000, 28, 28, 1)\n",
      "Formato das imagens de teste:  (10000, 28, 28, 1)\n",
      "Formato das labels de treinamento:  (60000, 10)\n",
      "Formato das labels de teste:  (10000, 10)\n"
     ]
    }
   ],
   "source": [
    "print('Formato das imagens de treinamento: ', img_train.shape)\n",
    "print('Formato das imagens de teste: ', img_test.shape)\n",
    "print('Formato das labels de treinamento: ', num_train.shape)\n",
    "print('Formato das labels de teste: ', num_test.shape)"
   ]
  },
  {
   "cell_type": "markdown",
   "metadata": {},
   "source": [
    "## Modelo 1 (relu)"
   ]
  },
  {
   "cell_type": "markdown",
   "metadata": {},
   "source": [
    "#### Criação"
   ]
  },
  {
   "cell_type": "code",
   "execution_count": 95,
   "metadata": {},
   "outputs": [],
   "source": [
    "modelo1 = Sequential()\n",
    "\n",
    "modelo1.add(Input(shape = (28, 28, 1)))\n",
    "modelo1.add(Conv2D(32, kernel_size = (3, 3), activation = 'relu'))\n",
    "modelo1.add(MaxPooling2D(pool_size = (2, 2)))\n",
    "modelo1.add(Conv2D(64, kernel_size = (3, 3), activation = 'relu'))\n",
    "modelo1.add(MaxPooling2D(pool_size = (2, 2)))\n",
    "modelo1.add(Flatten())\n",
    "modelo1.add(Dropout(0.5))\n",
    "modelo1.add(Dense(10, activation = 'softmax'))"
   ]
  },
  {
   "cell_type": "markdown",
   "metadata": {},
   "source": [
    "#### Treinamento"
   ]
  },
  {
   "cell_type": "code",
   "execution_count": 96,
   "metadata": {},
   "outputs": [
    {
     "name": "stdout",
     "output_type": "stream",
     "text": [
      "Epoch 1/15\n",
      "1875/1875 [==============================] - 38s 20ms/step - loss: 0.2071 - accuracy: 0.9374\n",
      "Epoch 2/15\n",
      "1875/1875 [==============================] - 36s 19ms/step - loss: 0.0796 - accuracy: 0.9758\n",
      "Epoch 3/15\n",
      "1875/1875 [==============================] - 36s 19ms/step - loss: 0.0626 - accuracy: 0.9808\n",
      "Epoch 4/15\n",
      "1875/1875 [==============================] - 36s 19ms/step - loss: 0.0533 - accuracy: 0.9836\n",
      "Epoch 5/15\n",
      "1875/1875 [==============================] - 36s 19ms/step - loss: 0.0471 - accuracy: 0.9855\n",
      "Epoch 6/15\n",
      "1875/1875 [==============================] - 36s 19ms/step - loss: 0.0440 - accuracy: 0.9861\n",
      "Epoch 7/15\n",
      "1875/1875 [==============================] - 35s 19ms/step - loss: 0.0387 - accuracy: 0.9880\n",
      "Epoch 8/15\n",
      "1875/1875 [==============================] - 34s 18ms/step - loss: 0.0368 - accuracy: 0.9883\n",
      "Epoch 9/15\n",
      "1875/1875 [==============================] - 33s 18ms/step - loss: 0.0340 - accuracy: 0.9893\n",
      "Epoch 10/15\n",
      "1875/1875 [==============================] - 34s 18ms/step - loss: 0.0319 - accuracy: 0.9898\n",
      "Epoch 11/15\n",
      "1875/1875 [==============================] - 35s 19ms/step - loss: 0.0303 - accuracy: 0.9906\n",
      "Epoch 12/15\n",
      "1875/1875 [==============================] - 33s 18ms/step - loss: 0.0292 - accuracy: 0.9907\n",
      "Epoch 13/15\n",
      "1875/1875 [==============================] - 34s 18ms/step - loss: 0.0287 - accuracy: 0.9907\n",
      "Epoch 14/15\n",
      "1875/1875 [==============================] - 33s 18ms/step - loss: 0.0276 - accuracy: 0.9907\n",
      "Epoch 15/15\n",
      "1875/1875 [==============================] - 35s 18ms/step - loss: 0.0258 - accuracy: 0.9916\n"
     ]
    },
    {
     "data": {
      "text/plain": [
       "<keras.callbacks.History at 0x1d4f118eeb0>"
      ]
     },
     "execution_count": 96,
     "metadata": {},
     "output_type": "execute_result"
    }
   ],
   "source": [
    "modelo1.compile(optimizer = 'adam', metrics = ['accuracy'], loss = 'categorical_crossentropy')\n",
    "modelo1.fit(x = img_train, y = num_train, epochs = 15)"
   ]
  },
  {
   "cell_type": "markdown",
   "metadata": {},
   "source": [
    "#### Performance"
   ]
  },
  {
   "cell_type": "code",
   "execution_count": 97,
   "metadata": {},
   "outputs": [
    {
     "name": "stdout",
     "output_type": "stream",
     "text": [
      "313/313 [==============================] - 3s 8ms/step - loss: 0.0249 - accuracy: 0.9923\n"
     ]
    }
   ],
   "source": [
    "test_loss, test_acc = modelo1.evaluate(img_test, num_test)"
   ]
  },
  {
   "cell_type": "markdown",
   "metadata": {},
   "source": [
    "#### Teste manual aleatório"
   ]
  },
  {
   "cell_type": "code",
   "execution_count": 98,
   "metadata": {},
   "outputs": [
    {
     "name": "stdout",
     "output_type": "stream",
     "text": [
      "313/313 [==============================] - 2s 7ms/step\n"
     ]
    },
    {
     "data": {
      "text/plain": [
       "5"
      ]
     },
     "execution_count": 98,
     "metadata": {},
     "output_type": "execute_result"
    }
   ],
   "source": [
    "prob1 = tf.keras.Sequential([modelo1, tf.keras.layers.Softmax()])\n",
    "pred1 = prob1.predict(img_test)\n",
    "np.argmax(pred1[153])"
   ]
  },
  {
   "cell_type": "markdown",
   "metadata": {},
   "source": [
    "O modelo apontou que a imagem 153 é um número 5"
   ]
  },
  {
   "cell_type": "code",
   "execution_count": 99,
   "metadata": {},
   "outputs": [
    {
     "data": {
      "image/png": "[encoded data removed]",
      "text/plain": [
       "<Figure size 432x288 with 2 Axes>"
      ]
     },
     "metadata": {
      "needs_background": "light"
     },
     "output_type": "display_data"
    }
   ],
   "source": [
    "plt.figure()\n",
    "plt.imshow(img_test[153], cmap='gray')\n",
    "plt.colorbar()\n",
    "plt.show()"
   ]
  },
  {
   "cell_type": "code",
   "execution_count": 100,
   "metadata": {},
   "outputs": [
    {
     "data": {
      "text/plain": [
       "array([0., 0., 0., 0., 0., 1., 0., 0., 0., 0.], dtype=float32)"
      ]
     },
     "execution_count": 100,
     "metadata": {},
     "output_type": "execute_result"
    }
   ],
   "source": [
    "num_test[153]"
   ]
  },
  {
   "cell_type": "markdown",
   "metadata": {},
   "source": [
    "Como já esperado após a visualização, a imagem 153 é realmente um número 5 e o modelo acertou. Além disso, é mais uma evidência da etapa de normalização, que transformou as classes de 0 a 9 em colunas binárias."
   ]
  },
  {
   "cell_type": "markdown",
   "metadata": {},
   "source": [
    "## Modelo 2 (softplus)"
   ]
  },
  {
   "cell_type": "markdown",
   "metadata": {},
   "source": [
    "#### Criação"
   ]
  },
  {
   "cell_type": "code",
   "execution_count": 101,
   "metadata": {},
   "outputs": [],
   "source": [
    "modelo2 = Sequential()\n",
    "\n",
    "modelo2.add(Input(shape = (28, 28, 1)))\n",
    "modelo2.add(Conv2D(32, kernel_size = (3, 3), activation = 'softplus'))\n",
    "modelo2.add(MaxPooling2D(pool_size = (2, 2)))\n",
    "modelo2.add(Conv2D(64, kernel_size = (3, 3), activation = 'softplus'))\n",
    "modelo2.add(MaxPooling2D(pool_size = (2, 2)))\n",
    "modelo2.add(Flatten())\n",
    "modelo2.add(Dropout(0.5))\n",
    "modelo2.add(Dense(10, activation = 'softmax'))"
   ]
  },
  {
   "cell_type": "markdown",
   "metadata": {},
   "source": [
    "#### Treinamento"
   ]
  },
  {
   "cell_type": "code",
   "execution_count": 102,
   "metadata": {},
   "outputs": [
    {
     "name": "stdout",
     "output_type": "stream",
     "text": [
      "Epoch 1/15\n",
      "1875/1875 [==============================] - 45s 24ms/step - loss: 0.6136 - accuracy: 0.7900\n",
      "Epoch 2/15\n",
      "1875/1875 [==============================] - 45s 24ms/step - loss: 0.1668 - accuracy: 0.9499\n",
      "Epoch 3/15\n",
      "1875/1875 [==============================] - 46s 24ms/step - loss: 0.1304 - accuracy: 0.9606\n",
      "Epoch 4/15\n",
      "1875/1875 [==============================] - 45s 24ms/step - loss: 0.1130 - accuracy: 0.9655\n",
      "Epoch 5/15\n",
      "1875/1875 [==============================] - 48s 25ms/step - loss: 0.0987 - accuracy: 0.9704\n",
      "Epoch 6/15\n",
      "1875/1875 [==============================] - 46s 24ms/step - loss: 0.0919 - accuracy: 0.9725\n",
      "Epoch 7/15\n",
      "1875/1875 [==============================] - 45s 24ms/step - loss: 0.0836 - accuracy: 0.9745\n",
      "Epoch 8/15\n",
      "1875/1875 [==============================] - 46s 24ms/step - loss: 0.0770 - accuracy: 0.9768\n",
      "Epoch 9/15\n",
      "1875/1875 [==============================] - 45s 24ms/step - loss: 0.0711 - accuracy: 0.9780\n",
      "Epoch 10/15\n",
      "1875/1875 [==============================] - 46s 24ms/step - loss: 0.0687 - accuracy: 0.9789\n",
      "Epoch 11/15\n",
      "1875/1875 [==============================] - 47s 25ms/step - loss: 0.0658 - accuracy: 0.9799\n",
      "Epoch 12/15\n",
      "1875/1875 [==============================] - 52s 28ms/step - loss: 0.0615 - accuracy: 0.9813\n",
      "Epoch 13/15\n",
      "1875/1875 [==============================] - 53s 28ms/step - loss: 0.0563 - accuracy: 0.9820\n",
      "Epoch 14/15\n",
      "1875/1875 [==============================] - 53s 28ms/step - loss: 0.0570 - accuracy: 0.9827\n",
      "Epoch 15/15\n",
      "1875/1875 [==============================] - 55s 29ms/step - loss: 0.0509 - accuracy: 0.9841\n"
     ]
    },
    {
     "data": {
      "text/plain": [
       "<keras.callbacks.History at 0x1d49ada7730>"
      ]
     },
     "execution_count": 102,
     "metadata": {},
     "output_type": "execute_result"
    }
   ],
   "source": [
    "modelo2.compile(optimizer = 'adam', metrics = ['accuracy'], loss = 'categorical_crossentropy')\n",
    "modelo2.fit(x = img_train, y = num_train, epochs = 15)"
   ]
  },
  {
   "cell_type": "markdown",
   "metadata": {},
   "source": [
    "#### Performance"
   ]
  },
  {
   "cell_type": "code",
   "execution_count": 103,
   "metadata": {},
   "outputs": [
    {
     "name": "stdout",
     "output_type": "stream",
     "text": [
      "313/313 [==============================] - 3s 9ms/step - loss: 0.0291 - accuracy: 0.9900\n"
     ]
    }
   ],
   "source": [
    "test_loss, test_acc = modelo2.evaluate(img_test, num_test)"
   ]
  },
  {
   "cell_type": "markdown",
   "metadata": {},
   "source": [
    "## Modelo 3 (softsign)"
   ]
  },
  {
   "cell_type": "markdown",
   "metadata": {},
   "source": [
    "#### Criação"
   ]
  },
  {
   "cell_type": "code",
   "execution_count": 104,
   "metadata": {},
   "outputs": [],
   "source": [
    "modelo3 = Sequential()\n",
    "\n",
    "modelo3.add(Input(shape = (28, 28, 1)))\n",
    "modelo3.add(Conv2D(32, kernel_size = (3, 3), activation = 'softsign'))\n",
    "modelo3.add(MaxPooling2D(pool_size = (2, 2)))\n",
    "modelo3.add(Conv2D(64, kernel_size = (3, 3), activation = 'softsign'))\n",
    "modelo3.add(MaxPooling2D(pool_size = (2, 2)))\n",
    "modelo3.add(Flatten())\n",
    "modelo3.add(Dropout(0.5))\n",
    "modelo3.add(Dense(10, activation = 'softmax'))"
   ]
  },
  {
   "cell_type": "markdown",
   "metadata": {},
   "source": [
    "#### Treinamento"
   ]
  },
  {
   "cell_type": "code",
   "execution_count": 105,
   "metadata": {},
   "outputs": [
    {
     "name": "stdout",
     "output_type": "stream",
     "text": [
      "Epoch 1/15\n",
      "1875/1875 [==============================] - 37s 20ms/step - loss: 0.2357 - accuracy: 0.9301\n",
      "Epoch 2/15\n",
      "1875/1875 [==============================] - 37s 20ms/step - loss: 0.0934 - accuracy: 0.9722\n",
      "Epoch 3/15\n",
      "1875/1875 [==============================] - 37s 19ms/step - loss: 0.0771 - accuracy: 0.9760\n",
      "Epoch 4/15\n",
      "1875/1875 [==============================] - 37s 19ms/step - loss: 0.0708 - accuracy: 0.9782\n",
      "Epoch 5/15\n",
      "1875/1875 [==============================] - 37s 20ms/step - loss: 0.0635 - accuracy: 0.9803\n",
      "Epoch 6/15\n",
      "1875/1875 [==============================] - 37s 20ms/step - loss: 0.0611 - accuracy: 0.9815\n",
      "Epoch 7/15\n",
      "1875/1875 [==============================] - 38s 20ms/step - loss: 0.0575 - accuracy: 0.9821\n",
      "Epoch 8/15\n",
      "1875/1875 [==============================] - 37s 20ms/step - loss: 0.0574 - accuracy: 0.9822\n",
      "Epoch 9/15\n",
      "1875/1875 [==============================] - 37s 20ms/step - loss: 0.0546 - accuracy: 0.9829\n",
      "Epoch 10/15\n",
      "1875/1875 [==============================] - 37s 20ms/step - loss: 0.0531 - accuracy: 0.9839\n",
      "Epoch 11/15\n",
      "1875/1875 [==============================] - 38s 20ms/step - loss: 0.0502 - accuracy: 0.9839\n",
      "Epoch 12/15\n",
      "1875/1875 [==============================] - 38s 20ms/step - loss: 0.0496 - accuracy: 0.9845\n",
      "Epoch 13/15\n",
      "1875/1875 [==============================] - 38s 20ms/step - loss: 0.0463 - accuracy: 0.9854\n",
      "Epoch 14/15\n",
      "1875/1875 [==============================] - 39s 21ms/step - loss: 0.0472 - accuracy: 0.9859\n",
      "Epoch 15/15\n",
      "1875/1875 [==============================] - 39s 21ms/step - loss: 0.0475 - accuracy: 0.9854\n"
     ]
    },
    {
     "data": {
      "text/plain": [
       "<keras.callbacks.History at 0x1d482a09490>"
      ]
     },
     "execution_count": 105,
     "metadata": {},
     "output_type": "execute_result"
    }
   ],
   "source": [
    "modelo3.compile(optimizer = 'adam', metrics = ['accuracy'], loss = 'categorical_crossentropy')\n",
    "modelo3.fit(x = img_train, y = num_train, epochs = 15)"
   ]
  },
  {
   "cell_type": "markdown",
   "metadata": {},
   "source": [
    "#### Performance"
   ]
  },
  {
   "cell_type": "code",
   "execution_count": 106,
   "metadata": {},
   "outputs": [
    {
     "name": "stdout",
     "output_type": "stream",
     "text": [
      "313/313 [==============================] - 2s 6ms/step - loss: 0.0358 - accuracy: 0.9882\n"
     ]
    }
   ],
   "source": [
    "test_loss, test_acc = modelo3.evaluate(img_test, num_test)"
   ]
  },
  {
   "cell_type": "markdown",
   "metadata": {},
   "source": [
    "## Modelo 4 (selu)"
   ]
  },
  {
   "cell_type": "markdown",
   "metadata": {},
   "source": [
    "#### Criação e treinamento"
   ]
  },
  {
   "cell_type": "code",
   "execution_count": 107,
   "metadata": {},
   "outputs": [],
   "source": [
    "modelo4 = Sequential()\n",
    "\n",
    "modelo4.add(Input(shape = (28, 28, 1)))\n",
    "modelo4.add(Conv2D(32, kernel_size = (3, 3), activation = 'selu'))\n",
    "modelo4.add(MaxPooling2D(pool_size = (2, 2)))\n",
    "modelo4.add(Conv2D(64, kernel_size = (3, 3), activation = 'selu'))\n",
    "modelo4.add(MaxPooling2D(pool_size = (2, 2)))\n",
    "modelo4.add(Flatten())\n",
    "modelo4.add(Dropout(0.5))\n",
    "modelo4.add(Dense(10, activation = 'softmax'))"
   ]
  },
  {
   "cell_type": "markdown",
   "metadata": {},
   "source": [
    "#### Treinamento"
   ]
  },
  {
   "cell_type": "code",
   "execution_count": 108,
   "metadata": {},
   "outputs": [
    {
     "name": "stdout",
     "output_type": "stream",
     "text": [
      "Epoch 1/15\n",
      "1875/1875 [==============================] - 39s 21ms/step - loss: 0.2179 - accuracy: 0.9349\n",
      "Epoch 2/15\n",
      "1875/1875 [==============================] - 41s 22ms/step - loss: 0.1023 - accuracy: 0.9683\n",
      "Epoch 3/15\n",
      "1875/1875 [==============================] - 40s 21ms/step - loss: 0.0886 - accuracy: 0.9736\n",
      "Epoch 4/15\n",
      "1875/1875 [==============================] - 40s 22ms/step - loss: 0.0809 - accuracy: 0.9745\n",
      "Epoch 5/15\n",
      "1875/1875 [==============================] - 40s 21ms/step - loss: 0.0737 - accuracy: 0.9781\n",
      "Epoch 6/15\n",
      "1875/1875 [==============================] - 40s 22ms/step - loss: 0.0726 - accuracy: 0.9776\n",
      "Epoch 7/15\n",
      "1875/1875 [==============================] - 40s 22ms/step - loss: 0.0677 - accuracy: 0.9790\n",
      "Epoch 8/15\n",
      "1875/1875 [==============================] - 41s 22ms/step - loss: 0.0649 - accuracy: 0.9803\n",
      "Epoch 9/15\n",
      "1875/1875 [==============================] - 41s 22ms/step - loss: 0.0669 - accuracy: 0.9797\n",
      "Epoch 10/15\n",
      "1875/1875 [==============================] - 40s 21ms/step - loss: 0.0608 - accuracy: 0.9815\n",
      "Epoch 11/15\n",
      "1875/1875 [==============================] - 40s 21ms/step - loss: 0.0596 - accuracy: 0.9821\n",
      "Epoch 12/15\n",
      "1875/1875 [==============================] - 40s 21ms/step - loss: 0.0591 - accuracy: 0.9821\n",
      "Epoch 13/15\n",
      "1875/1875 [==============================] - 40s 21ms/step - loss: 0.0591 - accuracy: 0.9823\n",
      "Epoch 14/15\n",
      "1875/1875 [==============================] - 40s 22ms/step - loss: 0.0579 - accuracy: 0.9828\n",
      "Epoch 15/15\n",
      "1875/1875 [==============================] - 41s 22ms/step - loss: 0.0562 - accuracy: 0.9832\n"
     ]
    },
    {
     "data": {
      "text/plain": [
       "<keras.callbacks.History at 0x1d48ae20e50>"
      ]
     },
     "execution_count": 108,
     "metadata": {},
     "output_type": "execute_result"
    }
   ],
   "source": [
    "modelo4.compile(optimizer = 'adam', metrics = ['accuracy'], loss = 'categorical_crossentropy')\n",
    "modelo4.fit(x = img_train, y = num_train, epochs = 15)"
   ]
  },
  {
   "cell_type": "markdown",
   "metadata": {},
   "source": [
    "#### Performance"
   ]
  },
  {
   "cell_type": "code",
   "execution_count": 109,
   "metadata": {},
   "outputs": [
    {
     "name": "stdout",
     "output_type": "stream",
     "text": [
      "313/313 [==============================] - 2s 7ms/step - loss: 0.0490 - accuracy: 0.9870\n"
     ]
    }
   ],
   "source": [
    "test_loss, test_acc = modelo4.evaluate(img_test, num_test)"
   ]
  },
  {
   "cell_type": "markdown",
   "metadata": {},
   "source": [
    "## Ranking de desempenho dos modelos convolucionais"
   ]
  },
  {
   "cell_type": "markdown",
   "metadata": {},
   "source": [
    "1.      Relu - 99,23%\n",
    "2.      Softplus - 99,00%\n",
    "3.      Softsign - 98,82%\n",
    "4.      Selu - 98,70%"
   ]
  }
 ],
 "metadata": {
  "kernelspec": {
   "display_name": "Python 3.9.12 ('base')",
   "language": "python",
   "name": "python3"
  },
  "language_info": {
   "codemirror_mode": {
    "name": "ipython",
    "version": 3
   },
   "file_extension": ".py",
   "mimetype": "text/x-python",
   "name": "python",
   "nbconvert_exporter": "python",
   "pygments_lexer": "ipython3",
   "version": "3.9.12"
  },
  "orig_nbformat": 4,
  "vscode": {
   "interpreter": {
    "hash": "0d31169ee747dfc4842a6776426cd2a52e1b289a10cc5c40d72ed241e280e750"
   }
  }
 },
 "nbformat": 4,
 "nbformat_minor": 2
}
